{
 "cells": [
  {
   "cell_type": "markdown",
   "metadata": {},
   "source": [
    "<script type=\"text/javascript\" src=\"http://cdn.mathjax.org/mathjax/latest/MathJax.js?config=default\"></script>\n",
    "# 2 逻辑回归(logistic regression)\n",
    "   在分类问题中，我们要预测的y值是离散的值，我们将运用到逻辑回归（logistic regression）算法。在分类问题中，我们期望预测的值属于某一类。以二分类任务为例，其输出标签值$y\\in\\{0, 1\\}$,而线性回归模型产生的预测值$z=w^Tx+b$是实数值，于是我们需将$z$转换为$0/1$，最理想的是单位阶跃函数，如下图所示。\n",
    "\n",
    "![](Images/2_01.jpg)\n",
    "\n",
    "然而单位阶跃函数不连续，于是我们希望能找到能在一定程度上近似单位阶跃函数的“替代函数”,并希望它单调可微，Sigmoid函数正是这样一个函数：\n",
    "$$ y= f(x,w,b)=\\frac{1}{1+e^{-(w^Tx+b)}}$$\n",
    "\n",
    "![](Images/2_1.jpg)\n",
    "\n",
    "上式可以变化为：\n",
    "$$ ln\\frac{y}{1-y} = w^Tx+b$$\n",
    "我们将$y$值视为样本$x$为正例的可能性，则$1-y$为其反例的可能性。若将$y$视为类后验概率$p(y=1|x)$，则$1-y$为 后验概率$p(y=0|x)$，因而有\n",
    "$$ ln\\frac{p(y=1|x)}{p(y=0|x)} = w^Tx+b$$\n",
    "显然有：\n",
    "$$p(y=1|x)=\\frac{e^{(w^Tx+b)}}{1+e^{(w^Tx+b)}}$$\n",
    "$$p(y=0|x)=\\frac{1}{1+e^{(w^Tx+b)}}$$\n",
    "于是上述公式可以改写为：\n",
    "$$p(y=i|x_i;w,b)=y_i p(y=1|x_i;w,b) + (1-y_i) p(y=0|x_i;w,b)$$\n",
    "于是我们可以通过‘极大似然法’来估计$w$和$b$，即是下式最大化：\n",
    "$$l(w,b) = \\sum_{i=1}^{m}ln p(y=i|x_i;w,b)$$\n",
    "等价于使下式最小化\n",
    "$$ J(w,b)=-1/m\\sum_{i=1}^{m}ln p(y=i|x_i;w,b)=-1/m\\sum_{i=1}^{m}ln y_i p(y=1|x_i;w,b) + (1-y_i) p(y=0|x_i;w,b)$$\n",
    "因而$J(w,b)$即为逻辑回归的代价函数。\n",
    "\n"
   ]
  },
  {
   "cell_type": "code",
   "execution_count": 113,
   "metadata": {},
   "outputs": [],
   "source": [
    "%matplotlib inline\n",
    "from sklearn.datasets import make_blobs\n",
    "import matplotlib.pyplot as plt\n",
    "import numpy as np"
   ]
  },
  {
   "cell_type": "code",
   "execution_count": 114,
   "metadata": {},
   "outputs": [],
   "source": [
    "x, y = make_blobs(n_features=1, n_samples=100, centers=2)\n"
   ]
  },
  {
   "cell_type": "code",
   "execution_count": 115,
   "metadata": {},
   "outputs": [
    {
     "data": {
      "text/plain": [
       "<matplotlib.collections.PathCollection at 0x24d63c82be0>"
      ]
     },
     "execution_count": 115,
     "metadata": {},
     "output_type": "execute_result"
    },
    {
     "data": {
      "image/png": "[encoded data removed]",
      "text/plain": [
       "<matplotlib.figure.Figure at 0x24d62814128>"
      ]
     },
     "metadata": {},
     "output_type": "display_data"
    }
   ],
   "source": [
    "plt.scatter(x, y, c=y, s=10, cmap='winter')"
   ]
  },
  {
   "cell_type": "code",
   "execution_count": 116,
   "metadata": {},
   "outputs": [],
   "source": [
    "def model(x, w):\n",
    "    return 1/(np.exp(-w*x)+1)\n",
    "\n",
    "def CostFunction(x, y, w):\n",
    "    m = len(x)\n",
    "    error = 0\n",
    "    for xi, yi in zip(x, y):\n",
    "        error += yi*np.log10(model(xi, w)) + (1-yi)*np.log10(1-model(xi, w))\n",
    "    return -1*error/m"
   ]
  },
  {
   "cell_type": "code",
   "execution_count": 117,
   "metadata": {},
   "outputs": [],
   "source": [
    "# 定义梯度下降函数求解\n",
    "\n",
    "def GradientDescent(x, y, w, alpha):\n",
    "    tem = [w]\n",
    "    eps = 10\n",
    "    while abs(eps) > 0.0005:\n",
    "        g = (CostFunction(x, y, w+0.01)-CostFunction(x, y, w-0.01))/0.02\n",
    "        w = w - g*alpha\n",
    "        eps = w - tem[-1]\n",
    "        tem.append(w)\n",
    "    return tem"
   ]
  },
  {
   "cell_type": "code",
   "execution_count": 118,
   "metadata": {},
   "outputs": [
    {
     "data": {
      "text/plain": [
       "[<matplotlib.lines.Line2D at 0x24d63d22b70>]"
      ]
     },
     "execution_count": 118,
     "metadata": {},
     "output_type": "execute_result"
    },
    {
     "data": {
      "image/png": "[encoded data removed]",
      "text/plain": [
       "<matplotlib.figure.Figure at 0x24d63cc0e48>"
      ]
     },
     "metadata": {},
     "output_type": "display_data"
    }
   ],
   "source": [
    "# 代价函数可视化\n",
    "\n",
    "error_w = np.linspace(0, 3, 100)\n",
    "error = []\n",
    "for wi in error_w:\n",
    "    error.append(CostFunction(x, y, wi))\n",
    "plt.plot(error_w, error)"
   ]
  },
  {
   "cell_type": "code",
   "execution_count": 119,
   "metadata": {},
   "outputs": [
    {
     "data": {
      "text/plain": [
       "[<matplotlib.lines.Line2D at 0x24d63d50cc0>]"
      ]
     },
     "execution_count": 119,
     "metadata": {},
     "output_type": "execute_result"
    },
    {
     "data": {
      "image/png": "[encoded data removed]",
      "text/plain": [
       "<matplotlib.figure.Figure at 0x24d62b37940>"
      ]
     },
     "metadata": {},
     "output_type": "display_data"
    }
   ],
   "source": [
    "# 梯度下降可视化（学习率为0.5），w初始值为0\n",
    "\n",
    "tem = GradientDescent(x, y, 0, 0.5)\n",
    "error_tem = [CostFunction(x, y, tem_i) for tem_i in tem]\n",
    "plt.plot(error_w , error)\n",
    "plt.plot(tem, error_tem)\n"
   ]
  },
  {
   "cell_type": "code",
   "execution_count": 120,
   "metadata": {},
   "outputs": [
    {
     "data": {
      "text/plain": [
       "[<matplotlib.lines.Line2D at 0x24d62a44710>]"
      ]
     },
     "execution_count": 120,
     "metadata": {},
     "output_type": "execute_result"
    },
    {
     "data": {
      "image/png": "[encoded data removed]",
      "text/plain": [
       "<matplotlib.figure.Figure at 0x24d62b14390>"
      ]
     },
     "metadata": {},
     "output_type": "display_data"
    }
   ],
   "source": [
    "# 梯度下降可视化（学习率为0.1），w初始值为0\n",
    "\n",
    "tem = GradientDescent(x, y, 0, 0.1)\n",
    "error_tem = [CostFunction(x, y, tem_i) for tem_i in tem]\n",
    "plt.plot(error_w , error)\n",
    "plt.plot(tem, error_tem)\n"
   ]
  },
  {
   "cell_type": "code",
   "execution_count": 121,
   "metadata": {},
   "outputs": [
    {
     "data": {
      "text/plain": [
       "[<matplotlib.lines.Line2D at 0x24d63e8d438>]"
      ]
     },
     "execution_count": 121,
     "metadata": {},
     "output_type": "execute_result"
    },
    {
     "data": {
      "image/png": "[encoded data removed]",
      "text/plain": [
       "<matplotlib.figure.Figure at 0x24d63e8d470>"
      ]
     },
     "metadata": {},
     "output_type": "display_data"
    }
   ],
   "source": [
    "#  预测y值与训练集进行比较（w=2）\n",
    "\n",
    "plt.scatter(x, y, c=y, cmap='winter', s=20)\n",
    "x_range = np.linspace(-8, 8, 50)\n",
    "y_pred = [model(xi, tem[-1]) for xi in x_range ]\n",
    "plt.plot(x_range, y_pred, c='r')"
   ]
  },
  {
   "cell_type": "code",
   "execution_count": 122,
   "metadata": {},
   "outputs": [
    {
     "data": {
      "text/plain": [
       "[<matplotlib.lines.Line2D at 0x24d63f2cd30>]"
      ]
     },
     "execution_count": 122,
     "metadata": {},
     "output_type": "execute_result"
    },
    {
     "data": {
      "image/png": "[encoded data removed]",
      "text/plain": [
       "<matplotlib.figure.Figure at 0x24d63f2cc18>"
      ]
     },
     "metadata": {},
     "output_type": "display_data"
    }
   ],
   "source": [
    "#  预测y值与训练集进行比较（w=0.8）\n",
    "\n",
    "plt.scatter(x, y, c=y, cmap='winter', s=20)\n",
    "x_range = np.linspace(-8, 8, 50)\n",
    "y_pred = [model(xi, 0.8) for xi in x_range ]\n",
    "plt.plot(x_range, y_pred, c='r')"
   ]
  },
  {
   "cell_type": "markdown",
   "metadata": {},
   "source": [
    "# 利用sklearn 实现逻辑回归"
   ]
  },
  {
   "cell_type": "code",
   "execution_count": 124,
   "metadata": {},
   "outputs": [],
   "source": [
    "from sklearn.linear_model import LogisticRegression"
   ]
  },
  {
   "cell_type": "code",
   "execution_count": 125,
   "metadata": {},
   "outputs": [
    {
     "ename": "AttributeError",
     "evalue": "'LogisticRegression' object has no attribute 'pred'",
     "output_type": "error",
     "traceback": [
      "\u001b[1;31m---------------------------------------------------------------------------\u001b[0m",
      "\u001b[1;31mAttributeError\u001b[0m                            Traceback (most recent call last)",
      "\u001b[1;32m<ipython-input-125-3fcbac6c0de9>\u001b[0m in \u001b[0;36m<module>\u001b[1;34m()\u001b[0m\n\u001b[0;32m      1\u001b[0m \u001b[0mLR\u001b[0m \u001b[1;33m=\u001b[0m \u001b[0mLogisticRegression\u001b[0m\u001b[1;33m(\u001b[0m\u001b[1;33m)\u001b[0m\u001b[1;33m\u001b[0m\u001b[0m\n\u001b[0;32m      2\u001b[0m \u001b[0mLR\u001b[0m\u001b[1;33m.\u001b[0m\u001b[0mfit\u001b[0m\u001b[1;33m(\u001b[0m\u001b[0mx\u001b[0m\u001b[1;33m,\u001b[0m \u001b[0my\u001b[0m\u001b[1;33m)\u001b[0m\u001b[1;33m\u001b[0m\u001b[0m\n\u001b[1;32m----> 3\u001b[1;33m \u001b[0my_pred\u001b[0m \u001b[1;33m=\u001b[0m \u001b[0mLR\u001b[0m\u001b[1;33m.\u001b[0m\u001b[0mpred\u001b[0m\u001b[1;33m(\u001b[0m\u001b[0mx_range\u001b[0m\u001b[1;33m)\u001b[0m\u001b[1;33m\u001b[0m\u001b[0m\n\u001b[0m\u001b[0;32m      4\u001b[0m \u001b[0mplt\u001b[0m\u001b[1;33m.\u001b[0m\u001b[0mscatter\u001b[0m\u001b[1;33m(\u001b[0m\u001b[0mx\u001b[0m\u001b[1;33m,\u001b[0m \u001b[0my\u001b[0m\u001b[1;33m,\u001b[0m \u001b[0mc\u001b[0m\u001b[1;33m=\u001b[0m\u001b[0my\u001b[0m\u001b[1;33m,\u001b[0m \u001b[0mcmap\u001b[0m\u001b[1;33m=\u001b[0m\u001b[1;34m'winter'\u001b[0m\u001b[1;33m)\u001b[0m\u001b[1;33m\u001b[0m\u001b[0m\n\u001b[0;32m      5\u001b[0m \u001b[0mplt\u001b[0m\u001b[1;33m.\u001b[0m\u001b[0mplot\u001b[0m\u001b[1;33m(\u001b[0m\u001b[0mx_range\u001b[0m\u001b[1;33m,\u001b[0m \u001b[0my_pred\u001b[0m\u001b[1;33m)\u001b[0m\u001b[1;33m\u001b[0m\u001b[0m\n",
      "\u001b[1;31mAttributeError\u001b[0m: 'LogisticRegression' object has no attribute 'pred'"
     ]
    }
   ],
   "source": [
    "LR = LogisticRegression()\n",
    "LR.fit(x, y)\n",
    "y_pred = LR.predict(x_range)\n",
    "plt.scatter(x, y, c=y, cmap='winter')\n",
    "plt.plot(x_range, y_pred)"
   ]
  },
  {
   "cell_type": "code",
   "execution_count": 1,
   "metadata": {},
   "outputs": [
    {
     "ename": "NameError",
     "evalue": "name 'x_range' is not defined",
     "output_type": "error",
     "traceback": [
      "\u001b[1;31m---------------------------------------------------------------------------\u001b[0m",
      "\u001b[1;31mNameError\u001b[0m                                 Traceback (most recent call last)",
      "\u001b[1;32m<ipython-input-1-9ce42c394c65>\u001b[0m in \u001b[0;36m<module>\u001b[1;34m()\u001b[0m\n\u001b[1;32m----> 1\u001b[1;33m \u001b[0mx_range\u001b[0m\u001b[1;33m\u001b[0m\u001b[0m\n\u001b[0m",
      "\u001b[1;31mNameError\u001b[0m: name 'x_range' is not defined"
     ]
    }
   ],
   "source": [
    "x_range"
   ]
  },
  {
   "cell_type": "code",
   "execution_count": null,
   "metadata": {},
   "outputs": [],
   "source": []
  }
 ],
 "metadata": {
  "kernelspec": {
   "display_name": "Python 3",
   "language": "python",
   "name": "python3"
  },
  "language_info": {
   "codemirror_mode": {
    "name": "ipython",
    "version": 3
   },
   "file_extension": ".py",
   "mimetype": "text/x-python",
   "name": "python",
   "nbconvert_exporter": "python",
   "pygments_lexer": "ipython3",
   "version": "3.6.1"
  }
 },
 "nbformat": 4,
 "nbformat_minor": 2
}
