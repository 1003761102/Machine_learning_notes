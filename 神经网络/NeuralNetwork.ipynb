{
 "cells": [
  {
   "cell_type": "markdown",
   "metadata": {},
   "source": [
    "# 神经网络\n"
   ]
  },
  {
   "cell_type": "code",
   "execution_count": 106,
   "metadata": {},
   "outputs": [],
   "source": [
    "import numpy as np\n",
    "import pandas as pd\n",
    "import matplotlib.pyplot as plt\n",
    "%matplotlib inline"
   ]
  },
  {
   "cell_type": "code",
   "execution_count": 107,
   "metadata": {},
   "outputs": [],
   "source": [
    "# 感知机实现或、与、非运算\n",
    "\n",
    "def sigmoid(x):\n",
    "    return 1/(1+np.exp(-x))\n",
    "\n",
    "def sgn(x):\n",
    "    if x >= 0:\n",
    "        return 1\n",
    "    if x < 0:\n",
    "        return 0\n",
    "\n",
    "def perceptron(x, w, theata):\n",
    "    length = len(x)\n",
    "    g = sum([wi*xi for xi, wi in zip(x, w)])-theata\n",
    "    return sigmoid(g)"
   ]
  },
  {
   "cell_type": "code",
   "execution_count": 108,
   "metadata": {},
   "outputs": [
    {
     "data": {
      "text/plain": [
       "0.5"
      ]
     },
     "execution_count": 108,
     "metadata": {},
     "output_type": "execute_result"
    }
   ],
   "source": [
    "# 与运算\n",
    "x = [1, 1]\n",
    "w = [1, 1]\n",
    "theata = 2\n",
    "perceptron(x, w, theata)"
   ]
  },
  {
   "cell_type": "code",
   "execution_count": 109,
   "metadata": {},
   "outputs": [
    {
     "data": {
      "text/plain": [
       "0.62245933120185459"
      ]
     },
     "execution_count": 109,
     "metadata": {},
     "output_type": "execute_result"
    }
   ],
   "source": [
    "# 或运算\n",
    "x = [1, 0]\n",
    "w = [1, 1]\n",
    "theata = 0.5\n",
    "perceptron(x, w, theata)"
   ]
  },
  {
   "cell_type": "code",
   "execution_count": 110,
   "metadata": {},
   "outputs": [
    {
     "data": {
      "text/plain": [
       "0.62245933120185459"
      ]
     },
     "execution_count": 110,
     "metadata": {},
     "output_type": "execute_result"
    }
   ],
   "source": [
    "# 非运算\n",
    "x = [0, 0]\n",
    "w = [-0.6, 0]\n",
    "theata = -0.5\n",
    "perceptron(x, w, theata)"
   ]
  },
  {
   "cell_type": "code",
   "execution_count": 111,
   "metadata": {},
   "outputs": [],
   "source": [
    "def two_perceptron(x, w, theata):\n",
    "    x0 = perceptron(x, w[0], 0.5) \n",
    "    x1 = perceptron(x, w[1], 0.5)\n",
    "    return  perceptron([x0, x1], w[2], 0.5)\n",
    "\n",
    "\n",
    "            "
   ]
  },
  {
   "cell_type": "code",
   "execution_count": 112,
   "metadata": {},
   "outputs": [
    {
     "name": "stdout",
     "output_type": "stream",
     "text": [
      "[1, -1]\n"
     ]
    },
    {
     "data": {
      "text/plain": [
       "0.56342679354672753"
      ]
     },
     "execution_count": 112,
     "metadata": {},
     "output_type": "execute_result"
    }
   ],
   "source": [
    "# 异或XOR运算\n",
    "x = [1, 1]\n",
    "w = [[1, -1], [-1, 1], [1, 1]]\n",
    "print(w[0])\n",
    "two_perceptron(x, w, 0.5)"
   ]
  },
  {
   "cell_type": "code",
   "execution_count": 113,
   "metadata": {},
   "outputs": [],
   "source": [
    "from sklearn.datasets import make_blobs"
   ]
  },
  {
   "cell_type": "code",
   "execution_count": 114,
   "metadata": {},
   "outputs": [
    {
     "data": {
      "text/plain": [
       "<matplotlib.collections.PathCollection at 0x1d777a9de10>"
      ]
     },
     "execution_count": 114,
     "metadata": {},
     "output_type": "execute_result"
    },
    {
     "data": {
      "image/png": "[encoded data removed]",
      "text/plain": [
       "<matplotlib.figure.Figure at 0x1d77792f630>"
      ]
     },
     "metadata": {},
     "output_type": "display_data"
    }
   ],
   "source": [
    "x, y = make_blobs(n_samples=40, n_features=2, centers=2)\n",
    "plt.scatter(x[:, 0], x[:, 1], c=y, cmap='autumn')"
   ]
  },
  {
   "cell_type": "code",
   "execution_count": 120,
   "metadata": {},
   "outputs": [],
   "source": [
    "def sigmoid(x):\n",
    "    return 1/(1+np.exp(-x))\n",
    "def foward(x, w, b, n_hidden=0, hidden_q=0, out_l=1):\n",
    "    hidden_input = np.array(x)\n",
    "    Wout = np.array(w[-1])\n",
    "    Bout = np.array(b[-1])\n",
    "    for h in range(n_hidden):\n",
    "        wh = np.array(w[h])\n",
    "        bh = b[h]\n",
    "        hidden = []\n",
    "        for i in range(hidden_q):\n",
    "            wi = np.array(wh[i, :])\n",
    "            ah = np.dot(hidden_input, wi)-np.array(bh)[i]\n",
    "            hidden.append(sigmoid(ah))\n",
    "        hidden_input = np.array(hidden)\n",
    "    output = []\n",
    "    for j in range(out_l):\n",
    "        print(j, hidden_input, Wout[j, :], Bout[j])\n",
    "        wj = Wout[j, :]\n",
    "        bj = np.dot(hidden_input, wj)-Bout[j]\n",
    "        output.append(sigmoid(bj))\n",
    "    output = np.array(output)\n",
    "    return output"
   ]
  },
  {
   "cell_type": "code",
   "execution_count": 121,
   "metadata": {},
   "outputs": [
    {
     "name": "stdout",
     "output_type": "stream",
     "text": [
      "0 [1 0] [1 1] 0.5\n"
     ]
    }
   ],
   "source": [
    "x = [1, 0]\n",
    "w = np.array([\n",
    "    [[1, 1]]\n",
    "])\n",
    "theata = [[0.5]]\n",
    "a=foward(x, w, theata, n_hidden=0, hidden_q=0, out_l=1 )"
   ]
  },
  {
   "cell_type": "code",
   "execution_count": 125,
   "metadata": {},
   "outputs": [
    {
     "name": "stdout",
     "output_type": "stream",
     "text": [
      "0 [ 0.62245933  0.62245933  0.62245933] [1 1 1] 0.5\n"
     ]
    },
    {
     "data": {
      "text/plain": [
       "array([ 0.7969562])"
      ]
     },
     "execution_count": 125,
     "metadata": {},
     "output_type": "execute_result"
    }
   ],
   "source": [
    "x = [1, 1, 1]\n",
    "w = np.array([\n",
    "    [[1, -1, 1],[-1, 1, 1], [1, 1, -1]],\n",
    "    [[1, 1, 1]]\n",
    "])\n",
    "theata = np.array([\n",
    "    [0.5, 0.5, 0.5],\n",
    "    [0.5]\n",
    "])\n",
    "foward(x, w, theata, n_hidden=1, hidden_q=3, out_l=1 )"
   ]
  },
  {
   "cell_type": "code",
   "execution_count": null,
   "metadata": {},
   "outputs": [],
   "source": []
  }
 ],
 "metadata": {
  "kernelspec": {
   "display_name": "Python 3",
   "language": "python",
   "name": "python3"
  },
  "language_info": {
   "codemirror_mode": {
    "name": "ipython",
    "version": 3
   },
   "file_extension": ".py",
   "mimetype": "text/x-python",
   "name": "python",
   "nbconvert_exporter": "python",
   "pygments_lexer": "ipython3",
   "version": "3.6.1"
  }
 },
 "nbformat": 4,
 "nbformat_minor": 2
}
