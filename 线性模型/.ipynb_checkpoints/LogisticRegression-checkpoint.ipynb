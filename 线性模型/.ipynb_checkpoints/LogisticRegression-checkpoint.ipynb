{
 "cells": [
  {
   "cell_type": "markdown",
   "metadata": {},
   "source": [
    "<script type=\"text/javascript\" src=\"http://cdn.mathjax.org/mathjax/latest/MathJax.js?config=default\"></script>\n",
    "# 2 逻辑回归(logistic regression)\n",
    "   在分类问题中，我们要预测的y值是离散的值，我们将运用到逻辑回归（logistic regression）算法。在分类问题中，我们期望预测的值属于某一类。以二分类任务为例，其输出标签值$y\\in\\{0, 1\\}$,而线性回归模型产生的预测值$z=w^Tx+b$是实数值，于是我们需将$z$转换为$0/1$，最理想的是单位阶跃函数，如下图所示。\n",
    "\n",
    "![](2_01.jpg)\n",
    "\n",
    "然而单位阶跃函数不连续，于是我们希望能找到能在一定程度上近似单位阶跃函数的“替代函数”,并希望它单调可微，Sigmoid函数正是这样一个函数：\n",
    "$$ y= f(x,w,b)=\\frac{1}{1+e^{-(w^Tx+b)}}$$\n",
    "\n",
    "![](2_1.jpg)\n",
    "\n",
    "上式可以变化为：\n",
    "$$ ln\\frac{y}{1-y} = w^Tx+b$$\n",
    "我们将$y$值视为样本$x$为正例的可能性，则$1-y$为其反例的可能性。若将$y$视为类后验概率$p(y=1|x)$，则$1-y$为 后验概率$p(y=0|x)$，因而有\n",
    "$$ ln\\frac{p(y=1|x)}{p(y=0|x)} = w^Tx+b$$\n",
    "显然有：\n",
    "$$p(y=1|x)=\\frac{e^{(w^Tx+b)}}{1+e^{(w^Tx+b)}}$$\n",
    "$$p(y=0|x)=\\frac{1}{1+e^{(w^Tx+b)}}$$\n",
    "于是上述公式可以改写为：\n",
    "$$p(y=i|x_i;w,b)=y_i p(y=1|x_i;w,b) + (1-y_i) p(y=0|x_i;w,b)$$\n",
    "于是我们可以通过‘极大似然法’来估计$w$和$b$，即是下式最大化：\n",
    "$$l(w,b) = \\sum_{i=1}^{m}ln p(y=i|x_i;w,b)$$\n",
    "等价于使下式最小化\n",
    "$$ J(w,b)=-1/m\\sum_{i=1}^{m}ln p(y=i|x_i;w,b)=-1/m\\sum_{i=1}^{m}ln y_i p(y=1|x_i;w,b) + (1-y_i) p(y=0|x_i;w,b)$$\n",
    "因而$J(w,b)$即为逻辑回归的代价函数。\n",
    "\n"
   ]
  },
  {
   "cell_type": "code",
   "execution_count": 1,
   "metadata": {},
   "outputs": [],
   "source": [
    "%matplotlib inline\n",
    "from sklearn.datasets import make_blobs\n",
    "import matplotlib.pyplot as plt\n",
    "import numpy as np"
   ]
  },
  {
   "cell_type": "code",
   "execution_count": 2,
   "metadata": {},
   "outputs": [],
   "source": [
    "x, y = make_blobs(n_features=1, n_samples=100, centers=2)\n"
   ]
  },
  {
   "cell_type": "code",
   "execution_count": 3,
   "metadata": {},
   "outputs": [
    {
     "data": {
      "text/plain": [
       "<matplotlib.collections.PathCollection at 0x24d5ca47b70>"
      ]
     },
     "execution_count": 3,
     "metadata": {},
     "output_type": "execute_result"
    },
    {
     "data": {
      "image/png": "[encoded data removed]",
      "text/plain": [
       "<matplotlib.figure.Figure at 0x24d5c95a0b8>"
      ]
     },
     "metadata": {},
     "output_type": "display_data"
    }
   ],
   "source": [
    "plt.scatter(x, y, c=y, s=10, cmap='winter')"
   ]
  },
  {
   "cell_type": "code",
   "execution_count": 11,
   "metadata": {},
   "outputs": [],
   "source": [
    "def model(x, w):\n",
    "    return 1/(np.exp(-w*x)+1)\n",
    "\n",
    "def CostFunction(x, y, w):\n",
    "    m = len(x)\n",
    "    error = 0\n",
    "    for xi, yi in zip(x, y):\n",
    "        error += yi*np.log10(model(xi, w)) + (1-yi)*np.log10(1-model(xi, w))\n",
    "    return -1*error/m"
   ]
  },
  {
   "cell_type": "code",
   "execution_count": 9,
   "metadata": {},
   "outputs": [
    {
     "name": "stderr",
     "output_type": "stream",
     "text": [
      "c:\\users\\sidsse888\\anaconda3\\lib\\site-packages\\ipykernel_launcher.py:8: RuntimeWarning: invalid value encountered in log10\n",
      "  \n"
     ]
    },
    {
     "data": {
      "text/plain": [
       "<matplotlib.collections.PathCollection at 0x24d5cec8710>"
      ]
     },
     "execution_count": 9,
     "metadata": {},
     "output_type": "execute_result"
    },
    {
     "data": {
      "image/png": "[encoded data removed]",
      "text/plain": [
       "<matplotlib.figure.Figure at 0x24d5cecbc18>"
      ]
     },
     "metadata": {},
     "output_type": "display_data"
    }
   ],
   "source": [
    "w = np.linspace(1, 20, 20)\n",
    "error = []\n",
    "for wi in w:\n",
    "    error.append(CostFunction(x, y, wi))\n",
    "plt.scatter(w, error)"
   ]
  },
  {
   "cell_type": "code",
   "execution_count": 10,
   "metadata": {},
   "outputs": [
    {
     "data": {
      "text/plain": [
       "[array([ nan]),\n",
       " array([ nan]),\n",
       " array([ nan]),\n",
       " array([ nan]),\n",
       " array([ nan]),\n",
       " array([ nan]),\n",
       " array([ nan]),\n",
       " array([ nan]),\n",
       " array([ nan]),\n",
       " array([ nan]),\n",
       " array([ nan]),\n",
       " array([ nan]),\n",
       " array([ nan]),\n",
       " array([ nan]),\n",
       " array([ nan]),\n",
       " array([ nan]),\n",
       " array([ nan]),\n",
       " array([ nan]),\n",
       " array([ nan]),\n",
       " array([ nan])]"
      ]
     },
     "execution_count": 10,
     "metadata": {},
     "output_type": "execute_result"
    }
   ],
   "source": [
    "error"
   ]
  },
  {
   "cell_type": "code",
   "execution_count": null,
   "metadata": {},
   "outputs": [],
   "source": []
  }
 ],
 "metadata": {
  "kernelspec": {
   "display_name": "Python 3",
   "language": "python",
   "name": "python3"
  },
  "language_info": {
   "codemirror_mode": {
    "name": "ipython",
    "version": 3
   },
   "file_extension": ".py",
   "mimetype": "text/x-python",
   "name": "python",
   "nbconvert_exporter": "python",
   "pygments_lexer": "ipython3",
   "version": "3.6.1"
  }
 },
 "nbformat": 4,
 "nbformat_minor": 2
}
